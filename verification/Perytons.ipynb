{
 "cells": [
  {
   "cell_type": "markdown",
   "metadata": {
    "deletable": true,
    "editable": true
   },
   "source": [
    "## Perytons\n",
    "\n",
    "FRB verification criteria.\n",
    "\n",
    "Criteria results:\n",
    "\n",
    "* POSTIVE: good evidence for astrophysical origin\n",
    "* NEUTRAL: neutral evidence\n",
    "* UNKNOWN: unknown from reported data\n",
    "* NEGATIVE: evidence for terrestrial origin (non-critical)\n",
    "* CRITICAL: good evidence for terrestiral origin (critical)\n",
    "* NOTVALID: not valid criterion for observation"
   ]
  },
  {
   "cell_type": "code",
   "execution_count": 1,
   "metadata": {
    "collapsed": true,
    "deletable": true,
    "editable": true
   },
   "outputs": [],
   "source": [
    "import cPickle as pkl"
   ]
  },
  {
   "cell_type": "code",
   "execution_count": 2,
   "metadata": {
    "collapsed": true,
    "deletable": true,
    "editable": true
   },
   "outputs": [],
   "source": [
    "criteria = {} # criteria status dictionary"
   ]
  },
  {
   "cell_type": "markdown",
   "metadata": {
    "deletable": true,
    "editable": true
   },
   "source": [
    "### Parameters\n",
    "\n",
    "[Radio Bursts with Extragalactic Spectral Characteristics Show Terrestrial Origins - Burke-Spolaor](https://arxiv.org/abs/1009.5392)"
   ]
  },
  {
   "cell_type": "markdown",
   "metadata": {},
   "source": [
    "TODO: find peryton data, is it normalized? Does the n&-2 dispersion relation fit?"
   ]
  },
  {
   "cell_type": "code",
   "execution_count": 3,
   "metadata": {
    "collapsed": true,
    "deletable": true,
    "editable": true
   },
   "outputs": [],
   "source": [
    "frbStr = 'Perytons'"
   ]
  },
  {
   "cell_type": "code",
   "execution_count": 4,
   "metadata": {
    "collapsed": true
   },
   "outputs": [],
   "source": [
    "criteria['compDMfrac'] = 'NOTVALID' # single component\n",
    "criteria['snrDMfrac'] = 'POSITIVE' # high DM frac, depending on pointing"
   ]
  },
  {
   "cell_type": "code",
   "execution_count": 5,
   "metadata": {
    "collapsed": true,
    "deletable": true,
    "editable": true
   },
   "outputs": [],
   "source": [
    "criteria['SNR'] = 'POSITIVE' # high SNR\n",
    "criteria['flux'] = 'POSITIVE' # reasonable flux\n",
    "criteria['pulsewidth'] = 'POSITIVE' # reasonable pulse width\n",
    "criteria['multicomp'] = 'POSITIVE' # single component\n",
    "criteria['polarization'] = 'NEUTRAL' # Stokes I data only\n",
    "criteria['broadband'] = 'NEUTRAL' # covers the observing band, but with patchy structure\n",
    "criteria['spectralIndex'] = 'POSITIVE' # smooth spectral index\n",
    "criteria['highResStruct'] = 'NEUTRAL' # no apparent high-resolution time or frequency structure\n",
    "criteria['scattering'] = 'NEUTRAL' # no apparent scattering\n",
    "criteria['scintillation'] = 'POSITIVE' # maybe apparent scintillation\n",
    "criteria['dmSpace'] = 'POSITIVE' # clean DM-space within window\n",
    "criteria['dispersionRelation'] = 'UNKNOWN' # fits n^-2 relation\n",
    "criteria['bandpass'] = 'UNKNOWN' # data has been normalized\n",
    "criteria['lowAltitude'] = 'NOTVALID' # multiple pointings\n",
    "criteria['sysNoise'] = 'UNKNOWN' # data has been normalized\n",
    "criteria['correctFeed'] = 'POSITIVE' # checked\n",
    "criteria['obsLog'] = 'POSITIVE' # checked\n",
    "criteria['electronics'] = 'POSITIVE' # checked\n",
    "criteria['repeats'] = 'CRITICAL' # repeats in multiple pointing directions\n",
    "criteria['gain'] = 'POSITIVE' # checked\n",
    "criteria['lowSNRsearch'] = 'UNKNOWN' # not clear if done\n",
    "criteria['multiBeam'] = 'CRITICAL' # detected in multiple beams at the same S/N -> local\n",
    "criteria['TAB'] = 'NOTVALID'\n",
    "criteria['interferometric'] = 'NOTVALID'\n",
    "criteria['multiSite'] = 'NOTVALID'"
   ]
  },
  {
   "cell_type": "code",
   "execution_count": 6,
   "metadata": {
    "collapsed": true
   },
   "outputs": [],
   "source": [
    "### Available Data"
   ]
  },
  {
   "cell_type": "code",
   "execution_count": 7,
   "metadata": {
    "collapsed": true
   },
   "outputs": [],
   "source": [
    "criteria['dataSingleBeam'] = 'NOTVALID'\n",
    "criteria['dataMultiBeam'] = 'UNKNOWN' # some of the multi-beams recorded data, data was normalized\n",
    "criteria['dataTAB'] = 'NOTVALID'\n",
    "criteria['dataInterferometric'] = 'NOTVALID'\n",
    "criteria['dataMultiSite'] = 'NOTVALID'\n",
    "criteria['dataVoltages'] = 'NOTVALID'"
   ]
  },
  {
   "cell_type": "code",
   "execution_count": 8,
   "metadata": {
    "collapsed": false,
    "deletable": true,
    "editable": true
   },
   "outputs": [
    {
     "name": "stdout",
     "output_type": "stream",
     "text": [
      "dataInterferometric: NOTVALID\n",
      "multiSite: NOTVALID\n",
      "multicomp: POSITIVE\n",
      "lowAltitude: NOTVALID\n",
      "scattering: NEUTRAL\n",
      "spectralIndex: POSITIVE\n",
      "obsLog: POSITIVE\n",
      "flux: POSITIVE\n",
      "broadband: NEUTRAL\n",
      "multiBeam: CRITICAL\n",
      "sysNoise: UNKNOWN\n",
      "polarization: NEUTRAL\n",
      "pulsewidth: POSITIVE\n",
      "TAB: NOTVALID\n",
      "electronics: POSITIVE\n",
      "dispersionRelation: UNKNOWN\n",
      "snrDMfrac: POSITIVE\n",
      "compDMfrac: NOTVALID\n",
      "interferometric: NOTVALID\n",
      "gain: POSITIVE\n",
      "dataVoltages: NOTVALID\n",
      "dataMultiBeam: UNKNOWN\n",
      "dmSpace: POSITIVE\n",
      "lowSNRsearch: UNKNOWN\n",
      "dataMultiSite: NOTVALID\n",
      "highResStruct: NEUTRAL\n",
      "SNR: POSITIVE\n",
      "correctFeed: POSITIVE\n",
      "dataTAB: NOTVALID\n",
      "repeats: CRITICAL\n",
      "scintillation: POSITIVE\n",
      "bandpass: UNKNOWN\n",
      "dataSingleBeam: NOTVALID\n"
     ]
    }
   ],
   "source": [
    "for key in criteria.iterkeys():\n",
    "    print '%s: %s'%(key, criteria[key])\n",
    "\n",
    "outFn = 'criteria.%s.pkl'%frbStr\n",
    "ofh = open(outFn, 'wb')\n",
    "pkl.dump(criteria, ofh)\n",
    "ofh.close()"
   ]
  }
 ],
 "metadata": {
  "kernelspec": {
   "display_name": "Python 2",
   "language": "python",
   "name": "python2"
  },
  "language_info": {
   "codemirror_mode": {
    "name": "ipython",
    "version": 2
   },
   "file_extension": ".py",
   "mimetype": "text/x-python",
   "name": "python",
   "nbconvert_exporter": "python",
   "pygments_lexer": "ipython2",
   "version": "2.7.12"
  }
 },
 "nbformat": 4,
 "nbformat_minor": 2
}
