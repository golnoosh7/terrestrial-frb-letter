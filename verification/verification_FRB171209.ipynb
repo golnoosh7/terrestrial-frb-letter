{
 "cells": [
  {
   "cell_type": "markdown",
   "metadata": {
    "deletable": true,
    "editable": true
   },
   "source": [
    "## FRB171209\n",
    "\n",
    "FRB verification criteria.\n",
    "\n",
    "Criteria results:\n",
    "\n",
    "* POSTIVE: good evidence for astrophysical origin\n",
    "* NEUTRAL: neutral evidence\n",
    "* UNKNOWN: unknown from reported data\n",
    "* NEGATIVE: evidence for terrestrial origin (non-critical)\n",
    "* CRITICAL: good evidence for terrestiral origin (critical)\n",
    "* NOTVALID: not valid criterion for observation"
   ]
  },
  {
   "cell_type": "code",
   "execution_count": 1,
   "metadata": {
    "collapsed": true,
    "deletable": true,
    "editable": true
   },
   "outputs": [],
   "source": [
    "import cPickle as pkl"
   ]
  },
  {
   "cell_type": "code",
   "execution_count": 2,
   "metadata": {
    "collapsed": true,
    "deletable": true,
    "editable": true
   },
   "outputs": [],
   "source": [
    "criteria = {} # criteria status dictionary"
   ]
  },
  {
   "cell_type": "markdown",
   "metadata": {
    "deletable": true,
    "editable": true
   },
   "source": [
    "### Parameters"
   ]
  },
  {
   "cell_type": "markdown",
   "metadata": {},
   "source": [
    "[Atel 11046](http://www.astronomerstelegram.org/?read=11046)"
   ]
  },
  {
   "cell_type": "code",
   "execution_count": 3,
   "metadata": {
    "collapsed": true,
    "deletable": true,
    "editable": true
   },
   "outputs": [],
   "source": [
    "frbStr = 'FRB171209'"
   ]
  },
  {
   "cell_type": "markdown",
   "metadata": {
    "deletable": true,
    "editable": true
   },
   "source": [
    "#### DM Excess\n",
    "\n",
    "Using https://www.nrl.navy.mil/rsd/RORF/ne2001/\n",
    "\n",
    "(RA, Dec) = (19:01:31.781, +03:31:05.97)\n",
    "Galactic pointing: (l, b) = (37.21, -0.64)"
   ]
  },
  {
   "cell_type": "code",
   "execution_count": 4,
   "metadata": {
    "collapsed": false,
    "deletable": true,
    "editable": true
   },
   "outputs": [
    {
     "name": "stdout",
     "output_type": "stream",
     "text": [
      "DM Excess fraction: 1.0\n"
     ]
    }
   ],
   "source": [
    "dm = 402.\n",
    "DM_galaxy = 402.\n",
    "DM_excess = dm / DM_galaxy\n",
    "print 'DM Excess fraction:', DM_excess\n",
    "\n",
    "criteria['compDMfrac'] = 'NOTVALID' # single component\n",
    "criteria['snrDMfrac'] = 'POSITIVE' # known pulsar in the galactic plane"
   ]
  },
  {
   "cell_type": "code",
   "execution_count": 5,
   "metadata": {
    "collapsed": false,
    "deletable": true,
    "editable": true
   },
   "outputs": [],
   "source": [
    "criteria['SNR'] = 'POSITIVE' # high SNR\n",
    "criteria['flux'] = 'POSITIVE' # reasonable flux\n",
    "criteria['pulsewidth'] = 'POSITIVE' # reasonable pulse width\n",
    "criteria['multicomp'] = 'UNKNOWN' # not reported\n",
    "criteria['polarization'] = 'NOTVALID' # Parkes multi-beam\n",
    "criteria['broadband'] = 'UNKNOWN' # not reported\n",
    "criteria['spectralIndex'] = 'UNKNOWN' # not reported\n",
    "criteria['highResStruct'] = 'UNKNOWN' # not reported\n",
    "criteria['scattering'] = 'UNKNOWN' # not reported\n",
    "criteria['scintillation'] = 'UNKNOWN' # not reported\n",
    "criteria['dmSpace'] = 'UNKNOWN' # not reported\n",
    "criteria['dispersionRelation'] = 'UNKNOWN' # not reported\n",
    "criteria['bandpass'] = 'UNKNOWN' # not reported\n",
    "criteria['lowAltitude'] = 'UNKNOWN' # not reported\n",
    "criteria['sysNoise'] = 'UNKNOWN' # not reported\n",
    "criteria['correctFeed'] = 'UNKNOWN' # not reported\n",
    "criteria['obsLog'] = 'UNKNOWN' # not reported\n",
    "criteria['electronics'] = 'UNKNOWN' # not reported\n",
    "criteria['repeats'] = 'UNKNOWN' # not reported\n",
    "criteria['gain'] = 'UNKNOWN' # not reported\n",
    "criteria['lowSNRsearch'] = 'UNKNOWN' # not reported\n",
    "criteria['multiBeam'] = 'POSITIVE' # observed in a single beam\n",
    "criteria['TAB'] =  'NOTVALID'\n",
    "criteria['interferometric'] =  'NOTVALID'\n",
    "criteria['multiSite'] =  'NOTVALID'"
   ]
  },
  {
   "cell_type": "markdown",
   "metadata": {
    "deletable": true,
    "editable": true
   },
   "source": [
    "### Available Data"
   ]
  },
  {
   "cell_type": "code",
   "execution_count": 6,
   "metadata": {
    "collapsed": true,
    "deletable": true,
    "editable": true
   },
   "outputs": [],
   "source": [
    "criteria['dataSingleBeam'] = 'NOTVALID'\n",
    "criteria['dataMultiBeam'] = 'CRITICAL' # no data released\n",
    "criteria['dataTAB'] = 'NOTVALID'\n",
    "criteria['dataInterferometric'] = 'NOTVALID'\n",
    "criteria['dataMultiSite'] = 'NOTVALID'\n",
    "criteria['dataVoltages'] = 'NOTVALID' # not available for Parkes multi-beam (I think)"
   ]
  },
  {
   "cell_type": "code",
   "execution_count": 7,
   "metadata": {
    "collapsed": false,
    "deletable": true,
    "editable": true
   },
   "outputs": [
    {
     "name": "stdout",
     "output_type": "stream",
     "text": [
      "dataInterferometric: NOTVALID\n",
      "multiSite: NOTVALID\n",
      "multicomp: UNKNOWN\n",
      "lowAltitude: UNKNOWN\n",
      "scattering: UNKNOWN\n",
      "spectralIndex: UNKNOWN\n",
      "obsLog: UNKNOWN\n",
      "flux: POSITIVE\n",
      "broadband: UNKNOWN\n",
      "multiBeam: POSITIVE\n",
      "sysNoise: UNKNOWN\n",
      "polarization: NOTVALID\n",
      "pulsewidth: POSITIVE\n",
      "TAB: NOTVALID\n",
      "electronics: UNKNOWN\n",
      "dispersionRelation: UNKNOWN\n",
      "snrDMfrac: POSITIVE\n",
      "compDMfrac: NOTVALID\n",
      "interferometric: NOTVALID\n",
      "gain: UNKNOWN\n",
      "dataVoltages: NOTVALID\n",
      "dataMultiBeam: CRITICAL\n",
      "dmSpace: UNKNOWN\n",
      "lowSNRsearch: UNKNOWN\n",
      "dataMultiSite: NOTVALID\n",
      "highResStruct: UNKNOWN\n",
      "SNR: POSITIVE\n",
      "correctFeed: UNKNOWN\n",
      "dataTAB: NOTVALID\n",
      "repeats: UNKNOWN\n",
      "scintillation: UNKNOWN\n",
      "bandpass: UNKNOWN\n",
      "dataSingleBeam: NOTVALID\n"
     ]
    }
   ],
   "source": [
    "for key in criteria.iterkeys():\n",
    "    print '%s: %s'%(key, criteria[key])\n",
    "\n",
    "outFn = 'criteria.%s.pkl'%frbStr\n",
    "ofh = open(outFn, 'wb')\n",
    "pkl.dump(criteria, ofh)\n",
    "ofh.close()"
   ]
  }
 ],
 "metadata": {
  "kernelspec": {
   "display_name": "Python 2",
   "language": "python",
   "name": "python2"
  },
  "language_info": {
   "codemirror_mode": {
    "name": "ipython",
    "version": 2
   },
   "file_extension": ".py",
   "mimetype": "text/x-python",
   "name": "python",
   "nbconvert_exporter": "python",
   "pygments_lexer": "ipython2",
   "version": "2.7.12"
  }
 },
 "nbformat": 4,
 "nbformat_minor": 2
}
