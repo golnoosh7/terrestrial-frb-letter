{
 "cells": [
  {
   "cell_type": "markdown",
   "metadata": {
    "deletable": true,
    "editable": true
   },
   "source": [
    "## FRB170107\n",
    "\n",
    "FRB verification criteria.\n",
    "\n",
    "Criteria results:\n",
    "\n",
    "* POSTIVE: good evidence for astrophysical origin\n",
    "* NEUTRAL: neutral evidence\n",
    "* UNKNOWN: unknown from reported data\n",
    "* NEGATIVE: evidence for terrestrial origin (non-critical)\n",
    "* CRITICAL: good evidence for terrestiral origin (critical)\n",
    "* NOTVALID: not valid criterion for observation"
   ]
  },
  {
   "cell_type": "code",
   "execution_count": 10,
   "metadata": {
    "collapsed": true,
    "deletable": true,
    "editable": true
   },
   "outputs": [],
   "source": [
    "import cPickle as pkl\n",
    "\n",
    "import astropy.time\n",
    "import astropy.coordinates\n",
    "import astropy.units"
   ]
  },
  {
   "cell_type": "code",
   "execution_count": 5,
   "metadata": {
    "collapsed": true,
    "deletable": true,
    "editable": true
   },
   "outputs": [],
   "source": [
    "criteria = {} # criteria status dictionary"
   ]
  },
  {
   "cell_type": "markdown",
   "metadata": {
    "deletable": true,
    "editable": true
   },
   "source": [
    "### Parameters"
   ]
  },
  {
   "cell_type": "markdown",
   "metadata": {
    "deletable": true,
    "editable": true
   },
   "source": [
    "[The detection of an extremely bright fast radio burst in a phased array feed survey - Bannister et al. 2017](https://arxiv.org/abs/1705.07581)\n",
    "\n",
    "NO DATA"
   ]
  },
  {
   "cell_type": "code",
   "execution_count": 6,
   "metadata": {
    "collapsed": true,
    "deletable": true,
    "editable": true
   },
   "outputs": [],
   "source": [
    "frbStr = 'FRB170107'"
   ]
  },
  {
   "cell_type": "markdown",
   "metadata": {
    "deletable": true,
    "editable": true
   },
   "source": [
    "#### DM Excess\n",
    "\n",
    "Using https://www.nrl.navy.mil/rsd/RORF/ne2001/\n",
    "\n",
    "(RA, Dec) = (11:23:10, \t-05:01)\n",
    "\n",
    "Galactic pointing: (l, b) = (266, 51.4)"
   ]
  },
  {
   "cell_type": "code",
   "execution_count": 7,
   "metadata": {
    "collapsed": false,
    "deletable": true,
    "editable": true
   },
   "outputs": [
    {
     "name": "stdout",
     "output_type": "stream",
     "text": [
      "DM Excess fraction: 16.5445168295\n"
     ]
    }
   ],
   "source": [
    "dm = 609.5\n",
    "DM_galaxy = 36.84\n",
    "DM_excess = dm / DM_galaxy\n",
    "print 'DM Excess fraction:', DM_excess"
   ]
  },
  {
   "cell_type": "code",
   "execution_count": 8,
   "metadata": {
    "collapsed": false
   },
   "outputs": [],
   "source": [
    "criteria['compDMfrac'] = 'NOTVALID' # single component\n",
    "criteria['snrDMfrac'] = 'POSITIVE' # many factors above the Galactic contribution"
   ]
  },
  {
   "cell_type": "code",
   "execution_count": 5,
   "metadata": {
    "collapsed": false,
    "deletable": true,
    "editable": true
   },
   "outputs": [],
   "source": [
    "criteria['SNR'] = 'POSITIVE' # high SNR\n",
    "criteria['flux'] = 'POSITIVE' # high flux flux\n",
    "criteria['pulsewidth'] = 'POSITIVE' # reasonable pulse width, 2.6 ms\n",
    "criteria['multicomp'] = 'POSITIVE' # single components\n",
    "criteria['polarization'] = 'NEUTRAL' # Stokes I only detection\n",
    "criteria['broadband'] = 'NEUTRAL' # consistent across 200 MHz, flux cutoff above 1400 MHz\n",
    "criteria['spectralIndex'] = 'NEUTRAL' # flat spectral index, with wide error, \n",
    "# but this is not consistent with the sharp cut off above 1400 MHz\n",
    "criteria['highResStruct'] = 'UNKNOWN' # not reported\n",
    "criteria['scattering'] = 'NEUTRAL' # low scattering time scale < 2 ms\n",
    "criteria['scintillation'] = 'NEUTRAL' # could not be determined\n",
    "criteria['dmSpace'] = 'UNKNOWN' # not reported\n",
    "criteria['dispersionRelation'] = 'UNKNOWN' # not reported\n",
    "criteria['bandpass'] = 'UNKNOWN' # not reported"
   ]
  },
  {
   "cell_type": "code",
   "execution_count": 11,
   "metadata": {
    "collapsed": false
   },
   "outputs": [
    {
     "name": "stdout",
     "output_type": "stream",
     "text": [
      "2017-01-07 20:05:45.139\n",
      "<SkyCoord (Galactic): (l, b) in deg\n",
      "    ( 266.,  51.4)>\n",
      "(-2544340.4362496, 5103157.427293086, -2848745.213491753) m\n",
      "<SkyCoord (AltAz: obstime=2017-01-07 20:05:45.139, location=(-2544340.4362496, 5103157.427293086, -2848745.213491753) m, pressure=0.0 hPa, temperature=0.0 deg_C, relative_humidity=0, obswl=1.0 micron): (az, alt) in deg\n",
      "    ( 14.51076031,  67.79238851)>\n",
      "<SkyCoord (ICRS): (ra, dec) in deg\n",
      "    ( 170.75415385, -5.01834563)>\n"
     ]
    },
    {
     "name": "stderr",
     "output_type": "stream",
     "text": [
      "/usr/local/lib/python2.7/dist-packages/astropy/table/column.py:1096: MaskedArrayFutureWarning: setting an item on a masked array which has a shared mask will not copy the mask and also change the original mask array in the future.\n",
      "Check the NumPy 1.11 release notes for more information.\n",
      "  ma.MaskedArray.__setitem__(self, index, value)\n"
     ]
    }
   ],
   "source": [
    "# Telescope pointing\n",
    "\n",
    "eventUTCStr = '2017-01-07 20:05:45.139'\n",
    "eventUTC = astropy.time.Time(eventUTCStr)\n",
    "print eventUTC\n",
    "\n",
    "eventGall = 266.\n",
    "eventGalb = 51.4\n",
    "\n",
    "galCoords = astropy.coordinates.SkyCoord(eventGall, eventGalb, frame=astropy.coordinates.Galactic,\\\n",
    "                                         unit='deg', equinox='J2000')\n",
    "print galCoords\n",
    "\n",
    "# ASKAP location\n",
    "# https://www.atnf.csiro.au/projects/askap/config.html\n",
    "siteLat = -26.7\n",
    "siteLong = 116.5\n",
    "siteLoc = astropy.coordinates.EarthLocation(lat=siteLat * astropy.units.deg, lon=siteLong * astropy.units.deg,\\\n",
    "                                  height=414.80 * astropy.units.m)\n",
    "print siteLoc\n",
    "\n",
    "print galCoords.transform_to(astropy.coordinates.AltAz(obstime=eventUTC, location=siteLoc))\n",
    "\n",
    "print galCoords.transform_to('icrs')"
   ]
  },
  {
   "cell_type": "code",
   "execution_count": 12,
   "metadata": {
    "collapsed": true
   },
   "outputs": [],
   "source": [
    "criteria['lowAltitude'] = 'POSITIVE' # high-altitude pointing"
   ]
  },
  {
   "cell_type": "code",
   "execution_count": null,
   "metadata": {
    "collapsed": true
   },
   "outputs": [],
   "source": [
    "criteria['sysNoise'] = 'UNKNOWN' # not reported\n",
    "criteria['correctFeed'] = 'POSITIVE' # single feed system\n",
    "criteria['obsLog'] = 'UNKNOWN' # not reported\n",
    "criteria['electronics'] = 'UNKNOWN' # not reported\n",
    "criteria['repeats'] = 'UNKNOWN' # not reported\n",
    "criteria['gain'] = 'UNKNOWN' # not reported\n",
    "criteria['lowSNRsearch'] = 'UNKNOWN' # not reported\n",
    "criteria['multiBeam'] = 'POSITIVE' # observed in multiple beams at decreasing S/N\n",
    "criteria['TAB'] =  'NOTVALID'\n",
    "criteria['interferometric'] =  'NOTVALID'\n",
    "criteria['multiSite'] =  'NOTVALID'"
   ]
  },
  {
   "cell_type": "markdown",
   "metadata": {
    "deletable": true,
    "editable": true
   },
   "source": [
    "### Available Data"
   ]
  },
  {
   "cell_type": "code",
   "execution_count": 6,
   "metadata": {
    "collapsed": true,
    "deletable": true,
    "editable": true
   },
   "outputs": [],
   "source": [
    "criteria['dataSingleBeam'] = 'NOTVALID'\n",
    "criteria['dataMultiBeam'] = 'CRITICAL' # no data released\n",
    "criteria['dataTAB'] = 'NOTVALID'\n",
    "criteria['dataInterferometric'] = 'NOTVALID'\n",
    "criteria['dataMultiSite'] = 'NOTVALID'\n",
    "criteria['dataVoltages'] = 'NOTVALID'"
   ]
  },
  {
   "cell_type": "code",
   "execution_count": 7,
   "metadata": {
    "collapsed": false,
    "deletable": true,
    "editable": true
   },
   "outputs": [
    {
     "name": "stdout",
     "output_type": "stream",
     "text": [
      "dataInterferometric: NOTVALID\n",
      "multiSite: NOTVALID\n",
      "multicomp: UNKNOWN\n",
      "lowAltitude: UNKNOWN\n",
      "scattering: UNKNOWN\n",
      "spectralIndex: UNKNOWN\n",
      "obsLog: UNKNOWN\n",
      "flux: POSITIVE\n",
      "broadband: UNKNOWN\n",
      "multiBeam: POSITIVE\n",
      "sysNoise: UNKNOWN\n",
      "polarization: UNKNOWN\n",
      "pulsewidth: POSITIVE\n",
      "TAB: NOTVALID\n",
      "electronics: UNKNOWN\n",
      "dispersionRelation: UNKNOWN\n",
      "snrDMfrac: POSITIVE\n",
      "compDMfrac: NOTVALID\n",
      "interferometric: NOTVALID\n",
      "gain: UNKNOWN\n",
      "dataVoltages: NOTVALID\n",
      "dataMultiBeam: CRITICAL\n",
      "dmSpace: UNKNOWN\n",
      "lowSNRsearch: UNKNOWN\n",
      "dataMultiSite: NOTVALID\n",
      "highResStruct: UNKNOWN\n",
      "SNR: POSITIVE\n",
      "correctFeed: UNKNOWN\n",
      "dataTAB: NOTVALID\n",
      "repeats: UNKNOWN\n",
      "scintillation: UNKNOWN\n",
      "bandpass: UNKNOWN\n",
      "dataSingleBeam: NOTVALID\n"
     ]
    }
   ],
   "source": [
    "for key in criteria.iterkeys():\n",
    "    print '%s: %s'%(key, criteria[key])\n",
    "\n",
    "outFn = 'criteria.%s.pkl'%frbStr\n",
    "ofh = open(outFn, 'wb')\n",
    "pkl.dump(criteria, ofh)\n",
    "ofh.close()"
   ]
  }
 ],
 "metadata": {
  "kernelspec": {
   "display_name": "Python 2",
   "language": "python",
   "name": "python2"
  },
  "language_info": {
   "codemirror_mode": {
    "name": "ipython",
    "version": 2
   },
   "file_extension": ".py",
   "mimetype": "text/x-python",
   "name": "python",
   "nbconvert_exporter": "python",
   "pygments_lexer": "ipython2",
   "version": "2.7.12"
  }
 },
 "nbformat": 4,
 "nbformat_minor": 2
}
